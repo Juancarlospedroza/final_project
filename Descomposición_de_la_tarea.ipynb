{
 "cells": [
  {
   "cell_type": "markdown",
   "metadata": {},
   "source": [
    "# **Sprint 14: Telecomunicaciones (Final project)**"
   ]
  },
  {
   "cell_type": "markdown",
   "metadata": {},
   "source": [
    "El servicio de telefonía virtual CallMeMaybe está desarrollando una nueva función que brindará a los supervisores y las supervisores información sobre los operadores menos eficaces. Se considera que un operador es ineficaz si tiene una gran cantidad de llamadas entrantes perdidas (internas y externas) y un tiempo de espera prolongado para las llamadas entrantes. Además, si se supone que un operador debe realizar llamadas salientes, un número reducido de ellas también será un signo de ineficacia."
   ]
  },
  {
   "cell_type": "markdown",
   "metadata": {},
   "source": [
    "**Objetivo:** identificar operadores ineficaces; para entregarle esta información a los supervisores de manera que ellos puedan tomar desiciones informadas en las medidas que decidan tomar respecto de los operadores con más bajo rendimiento.\n",
    "\n"
   ]
  },
  {
   "cell_type": "markdown",
   "metadata": {},
   "source": [
    "**Clarificaciones:** Consideraré ineficacies al 10% peor en cada rubro a los que estén por encima del percentil 90 o debajo del Percentil 10 según sea el caso. Además quiero recalcar que no voy a considerar a los trabajadores ineficaces como un grupo homogeneo, sino que voy encontrar cuales de los operadores están fallando en cada uno de los rubros, y los compararé con los que son considerado eficaces. Al final tendré 3 listras de IDs de operadores ineficientes, y posteriormente uniré las listas y eliminaré duplicados para tener una única de operadores ineficaces."
   ]
  },
  {
   "cell_type": "markdown",
   "metadata": {},
   "source": [
    "## **Hipótesis:** \n",
    "\n",
    "1. \"Los operadores considerados ineficaces tienen una tasa de llamadas perdidas (internas y externas) significativamente mayor que la media de los operadores eficaces.\"\n",
    "\n",
    "2. \"Los operadores ineficaces tienen un tiempo promedio de espera en llamadas entrantes significativamente mayor que el de los operadores eficaces.\"\n",
    "\n",
    "3. \"Los operadores ineficaces realizan significativamente menos llamadas salientes que la media de los operadores eficientes\""
   ]
  },
  {
   "cell_type": "markdown",
   "metadata": {},
   "source": [
    "## **Plan de acción** \n",
    "\n",
    "**1. Preprocesamiento de datos**\n",
    "\n",
    "**2. Análisis exploratorio de datos**\n",
    "\n",
    "**3. Agrupar los datos por IDs**\n",
    "\n",
    "**4. Filtrar los datos para encontrar a los operadores ineficientes, en cada uno de los rubros:**\n",
    "- Por la cantidad de llamadas perdidas.\n",
    "- Por los tiempos de espera prolongados de llamadas entrantes.\n",
    "- Por tener pocas llamadas salientes. "
   ]
  }
 ],
 "metadata": {
  "kernelspec": {
   "display_name": "Python 3",
   "language": "python",
   "name": "python3"
  },
  "language_info": {
   "name": "python",
   "version": "3.13.2"
  }
 },
 "nbformat": 4,
 "nbformat_minor": 2
}
