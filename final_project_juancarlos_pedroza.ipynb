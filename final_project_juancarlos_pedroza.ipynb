{
 "cells": [
  {
   "cell_type": "markdown",
   "metadata": {},
   "source": [
    "# **Sprint 14: Telecomunicaciones (Final project)**"
   ]
  },
  {
   "cell_type": "markdown",
   "metadata": {},
   "source": [
    "El servicio de telefonía virtual CallMeMaybe está desarrollando una nueva función que brindará a los supervisores y las supervisores información sobre los operadores menos eficaces. Se considera que un operador es ineficaz si tiene una gran cantidad de llamadas entrantes perdidas (internas y externas) y un tiempo de espera prolongado para las llamadas entrantes. Además, si se supone que un operador debe realizar llamadas salientes, un número reducido de ellas también será un signo de ineficacia."
   ]
  },
  {
   "cell_type": "markdown",
   "metadata": {},
   "source": [
    "**Objetivo:** identificar operadores ineficaces; para entregarle esta información a los supervisores de manera que ellos puedan tomar desiciones informadas en las medidas que decidan tomar respecto de los operadores con más bajo rendimiento.\n",
    "\n"
   ]
  },
  {
   "cell_type": "markdown",
   "metadata": {},
   "source": [
    "**Clarificaciones:** \n",
    "\n",
    "- Consideraré operadores ineficacies al **10% peor en cada rubro**; es decir los que estén por encima del percentil 90 o debajo del Percentil 10 según sea el caso.\n",
    "\n",
    "- Además quiero recalcar que durante el estudio **no voy a considerar a los trabajadores ineficaces como un grupo homogeneo**, sino que voy a encontrar cuales de los operadores están fallando en cada uno de los rubros, y los compararé con el resto del grupo.\n",
    "\n",
    "- Sin embargo al final tendré 3 listas de ID's de operadores ineficientes una por cada rubro, las cuales uniré y eliminaré duplicados para tener **una única lista de operadores ineficaces**. \n",
    "\n",
    "Esto lo estoy haciendo porque al tratarlos por separado no sesgo los datos, soy más preciso al hacer las comparaciones, contrastando rubro por rubro. Además si los supervisores lo desean podrían revisar en qué están fallando los operadores, quizá no quieran simplemente despedirlos, sino ayudarlos a mejorar sus métricas. También es interesante ver cuales operadores aparecen en 2 o en las 3 listas; al final puedo tener una pivot table con los ID de los operadores ineficientes que indique en cuales rubros falla cada uno. Por todo lo anterior es que considero relevante tratarlo de esta manera."
   ]
  },
  {
   "cell_type": "markdown",
   "metadata": {},
   "source": [
    "## **Hipótesis:** \n",
    "\n",
    "1. \"Los operadores considerados ineficaces tienen una tasa de llamadas perdidas (internas y externas) significativamente mayor que la media de los operadores eficaces.\"\n",
    "\n",
    "2. \"Los operadores ineficaces tienen un tiempo promedio de espera en llamadas entrantes significativamente mayor que el de los operadores eficaces.\"\n",
    "\n",
    "3. \"Los operadores ineficaces realizan significativamente menos llamadas salientes que la media de los operadores eficientes\""
   ]
  },
  {
   "cell_type": "markdown",
   "metadata": {},
   "source": [
    "## **Plan de acción** \n",
    "\n",
    "**1. Preprocesamiento de datos**\n",
    "- Estudiar valores ausentes\n",
    "- Estudiar el tipo de correspondencia\n",
    "- Estudiar valores duplicados\n",
    "\n",
    "**2. Análisis exploratorio de datos**\n",
    "\n",
    "**3. Agrupar los datos por operator_id**\n",
    "\n",
    "**4. Métodos para cada rubro:**\n",
    "- Por la cantidad de llamadas perdidas (.sum())\n",
    "- Por los tiempos de espera en llamadas entrantes (.mean())\n",
    "- Por la cantidad de llamadas salientes (.sum())\n",
    "\n",
    "**5. Encontrar los percentiles respectivos de cada rubro**\n",
    "- P90 (Cuando mucho es ineficiente)\n",
    "- P10 (Cuando poco es ineficiente)\n",
    "\n",
    "**6. Separar a los operadores ineficientes y los eficientes de cada rubro**\n",
    "\n",
    "**7. Comparar estadísticamente con una prueba T los grupos de cada rubro**\n",
    "\n",
    "**8. Crear una pivot table con los usuarios ineficientes**\n",
    "\n",
    "**9. Conclusiones**"
   ]
  },
  {
   "cell_type": "markdown",
   "metadata": {},
   "source": [
    "# **Step 1: Data preprocessing**"
   ]
  },
  {
   "cell_type": "markdown",
   "metadata": {},
   "source": [
    "## **Import libraries**"
   ]
  },
  {
   "cell_type": "code",
   "execution_count": 3,
   "metadata": {},
   "outputs": [],
   "source": [
    "#!pip install pandas"
   ]
  },
  {
   "cell_type": "code",
   "execution_count": 2,
   "metadata": {},
   "outputs": [],
   "source": [
    "import pandas as pd\n",
    "import numpy as np\n",
    "import scipy.stats as stats\n",
    "from scipy.stats import ttest_ind\n",
    "import math as mth\n",
    "import matplotlib.pyplot as plt\n",
    "import seaborn as sns\n",
    "import plotly.express as px"
   ]
  },
  {
   "cell_type": "markdown",
   "metadata": {},
   "source": [
    "## **Read the data**"
   ]
  },
  {
   "cell_type": "code",
   "execution_count": null,
   "metadata": {},
   "outputs": [],
   "source": []
  }
 ],
 "metadata": {
  "kernelspec": {
   "display_name": "base",
   "language": "python",
   "name": "python3"
  },
  "language_info": {
   "codemirror_mode": {
    "name": "ipython",
    "version": 3
   },
   "file_extension": ".py",
   "mimetype": "text/x-python",
   "name": "python",
   "nbconvert_exporter": "python",
   "pygments_lexer": "ipython3",
   "version": "3.12.4"
  }
 },
 "nbformat": 4,
 "nbformat_minor": 2
}
