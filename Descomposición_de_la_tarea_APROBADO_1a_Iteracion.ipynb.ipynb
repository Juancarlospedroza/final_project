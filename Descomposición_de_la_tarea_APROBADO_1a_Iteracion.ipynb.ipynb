{
 "cells": [
  {
   "cell_type": "markdown",
   "metadata": {},
   "source": [
    "Hola **Juan**!\n",
    "\n",
    "Soy **Patricio Requena** 👋. Es un placer ser el revisor de tu proyecto el día de hoy!\n",
    "\n",
    "Revisaré tu proyecto detenidamente con el objetivo de ayudarte a mejorar y perfeccionar tus habilidades. Durante mi revisión, identificaré áreas donde puedas hacer mejoras en tu código, señalando específicamente qué y cómo podrías ajustar para optimizar el rendimiento y la claridad de tu proyecto. Además, es importante para mí destacar los aspectos que has manejado excepcionalmente bien. Reconocer tus fortalezas te ayudará a entender qué técnicas y métodos están funcionando a tu favor y cómo puedes aplicarlos en futuras tareas. \n",
    "\n",
    "_**Recuerda que al final de este notebook encontrarás un comentario general de mi parte**_, empecemos!\n",
    "\n",
    "Encontrarás mis comentarios dentro de cajas verdes, amarillas o rojas, ⚠️ **por favor, no muevas, modifiques o borres mis comentarios** ⚠️:\n",
    "\n",
    "\n",
    "<div class=\"alert alert-block alert-success\">\n",
    "<b>Comentario del revisor</b> <a class=“tocSkip”></a>\n",
    "Si todo está perfecto.\n",
    "</div>\n",
    "\n",
    "<div class=\"alert alert-block alert-warning\">\n",
    "<b>Comentario del revisor</b> <a class=“tocSkip”></a>\n",
    "Si tu código está bien pero se puede mejorar o hay algún detalle que le hace falta.\n",
    "</div>\n",
    "\n",
    "<div class=\"alert alert-block alert-danger\">\n",
    "<b>Comentario del revisor</b> <a class=“tocSkip”></a>\n",
    "Si de pronto hace falta algo o existe algún problema con tu código o conclusiones.\n",
    "</div>\n",
    "\n",
    "Puedes responderme de esta forma:\n",
    "<div class=\"alert alert-block alert-info\">\n",
    "<b>Respuesta del estudiante</b> <a class=“tocSkip”></a>\n",
    "</div>"
   ]
  },
  {
   "cell_type": "markdown",
   "metadata": {},
   "source": [
    "# **Sprint 14: Telecomunicaciones (Final project)**"
   ]
  },
  {
   "cell_type": "markdown",
   "metadata": {},
   "source": [
    "El servicio de telefonía virtual CallMeMaybe está desarrollando una nueva función que brindará a los supervisores y las supervisores información sobre los operadores menos eficaces. Se considera que un operador es ineficaz si tiene una gran cantidad de llamadas entrantes perdidas (internas y externas) y un tiempo de espera prolongado para las llamadas entrantes. Además, si se supone que un operador debe realizar llamadas salientes, un número reducido de ellas también será un signo de ineficacia."
   ]
  },
  {
   "cell_type": "markdown",
   "metadata": {},
   "source": [
    "**Objetivo:** identificar operadores ineficaces; para entregarle esta información a los supervisores de manera que ellos puedan tomar desiciones informadas en las medidas que decidan tomar respecto de los operadores con más bajo rendimiento.\n",
    "\n"
   ]
  },
  {
   "cell_type": "markdown",
   "metadata": {},
   "source": [
    "**Clarificaciones:** \n",
    "\n",
    "- Consideraré operadores ineficacies al **10% peor en cada rubro**; es decir los que estén por encima del percentil 90 o debajo del Percentil 10 según sea el caso.\n",
    "\n",
    "- Además quiero recalcar que durante el estudio **no voy a considerar a los trabajadores ineficaces como un grupo homogeneo**, sino que voy a encontrar cuales de los operadores están fallando en cada uno de los rubros, y los compararé con el resto del grupo.\n",
    "\n",
    "- Sin embargo al final tendré 3 listas de ID's de operadores ineficientes una por cada rubro, las cuales uniré y eliminaré duplicados para tener **una única lista de operadores ineficaces**. \n",
    "\n",
    "Esto lo estoy haciendo porque al tratarlos por separado no sesgo los datos, soy más preciso al hacer las comparaciones, contrastando rubro por rubro. Además si los supervisores lo desean podrían revisar en qué están fallando los operadores, quizá no quieran simplemente despedirlos, sino ayudarlos a mejorar sus métricas. También es interesante ver cuales operadores aparecen en 2 o en las 3 listas; al final puedo tener una pivot table con los ID de los operadores ineficientes que indique en cuales rubros falla cada uno. Por todo lo anterior es que considero relevante tratarlo de esta manera."
   ]
  },
  {
   "cell_type": "markdown",
   "metadata": {},
   "source": [
    "## **Hipótesis:** \n",
    "\n",
    "1. \"Los operadores considerados ineficaces tienen una tasa de llamadas perdidas (internas y externas) significativamente mayor que la media de los operadores eficaces.\"\n",
    "\n",
    "2. \"Los operadores ineficaces tienen un tiempo promedio de espera en llamadas entrantes significativamente mayor que el de los operadores eficaces.\"\n",
    "\n",
    "3. \"Los operadores ineficaces realizan significativamente menos llamadas salientes que la media de los operadores eficientes\""
   ]
  },
  {
   "cell_type": "markdown",
   "metadata": {},
   "source": [
    "## **Plan de acción** \n",
    "\n",
    "**1. Preprocesamiento de datos**\n",
    "- Estudiar valores ausentes\n",
    "- Estudiar el tipo de correspondencia\n",
    "- Estudiar valores duplicados\n",
    "\n",
    "**2. Análisis exploratorio de datos**\n",
    "\n",
    "**3. Agrupar los datos por operator_id**\n",
    "\n",
    "**4. Métodos para cada rubro:**\n",
    "- Por la cantidad de llamadas perdidas (.sum())\n",
    "- Por los tiempos de espera en llamadas entrantes (.mean())\n",
    "- Por la cantidad de llamadas salientes (.sum())\n",
    "\n",
    "**5. Encontrar los percentiles respectivos de cada rubro**\n",
    "- P90 (Cuando mucho es ineficiente)\n",
    "- P10 (Cuando poco es ineficiente)\n",
    "\n",
    "**6. Separar a los operadores ineficientes y los eficientes de cada rubro**\n",
    "\n",
    "**7. Comparar estadísticamente con una prueba T los grupos de cada rubro**\n",
    "\n",
    "**8. Crear una pivot table con los usuarios ineficientes**\n",
    "\n",
    "**9. Conclusiones**"
   ]
  },
  {
   "cell_type": "markdown",
   "metadata": {},
   "source": [
    "<div class=\"alert alert-block alert-success\">\n",
    "<b>Comentario del revisor (1ra Iteración)</b> <a class=\"tocSkip\"></a>\n",
    "    \n",
    "Tienes un plan bastante bien estructurado y un notebook con una presentación muy buena. Me gustaría dejarte algunos comentarios y recomendaciones para el avance de tu proyecto:\n",
    "\n",
    "- **Contexto y objetivos**: Siempre es importante dejar claro desde un inicio lo que se hará y para qué se hará\n",
    "\n",
    "- **Preprocesamiento de datos**: Es una parte escencial en tu proyecto y lo tienes bastante bien cubierto, felicidades!\n",
    "\n",
    "- **Análisis exploratorio**: Recuerda que debes cubrir esta parte también para entender los datos con los que trabajas, te recomendaría incluir la revisión de datos atípicos que luego puedan llegar a causar alguna métrica errónea al final de tu proyecto.\n",
    "\n",
    "- **Prueba de hipótesis**: Determinar si se tiene una diferencia significativa en nuestra métrica objetivo es importante por lo que hiciste muy bien al incluirla, recuerda comparar entre operadores eficientes y no eficientes con pruebas estadísticas\n",
    "\n",
    "- **Conclusiones y recomendaciones**: Una parte importante para culminar el proyecto ya que es donde se resume todos los hallazgos del análisis\n",
    "    \n",
    "\n",
    "Recuerda que debes realizar una presentación en la última parte de tu proyecto (Empresa callme maybe) con los hallazgos del proyecto y para facilitar la revisión de la presentación procura exportarlo a PDF y aquí debes compartir y explicar tus hallazgos en tu proyecto final.\n",
    "    \n",
    "    \n",
    "Saludos!"
   ]
  }
 ],
 "metadata": {
  "kernelspec": {
   "display_name": "Python 3 (ipykernel)",
   "language": "python",
   "name": "python3"
  },
  "language_info": {
   "codemirror_mode": {
    "name": "ipython",
    "version": 3
   },
   "file_extension": ".py",
   "mimetype": "text/x-python",
   "name": "python",
   "nbconvert_exporter": "python",
   "pygments_lexer": "ipython3",
   "version": "3.9.19"
  },
  "toc": {
   "base_numbering": 1,
   "nav_menu": {},
   "number_sections": true,
   "sideBar": true,
   "skip_h1_title": true,
   "title_cell": "Table of Contents",
   "title_sidebar": "Contents",
   "toc_cell": false,
   "toc_position": {},
   "toc_section_display": true,
   "toc_window_display": false
  }
 },
 "nbformat": 4,
 "nbformat_minor": 2
}
